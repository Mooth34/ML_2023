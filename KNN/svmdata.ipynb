{
 "cells": [
  {
   "cell_type": "markdown",
   "id": "16fc26eb-b43c-4fdd-8e34-dc24bb4a6506",
   "metadata": {},
   "source": [
    "# Задание 3. SVMData"
   ]
  },
  {
   "cell_type": "code",
   "execution_count": 2,
   "id": "91fcc17c-f92e-4f78-a117-55fef987c47b",
   "metadata": {
    "tags": []
   },
   "outputs": [],
   "source": [
    "import matplotlib.pyplot as plt\n",
    "import numpy as np\n",
    "import pandas as pd\n",
    "from pandas import Series\n",
    "from sklearn.neighbors import KNeighborsClassifier\n",
    "from sklearn.model_selection import GridSearchCV, StratifiedKFold, cross_val_score\n",
    "from sklearn.preprocessing import LabelEncoder\n",
    "from accuracy_dependence import normalize_data"
   ]
  },
  {
   "cell_type": "markdown",
   "id": "d1ec5a5a-6151-4047-9119-e0102ed37ffa",
   "metadata": {},
   "source": [
    "## Чтение данных из файла"
   ]
  },
  {
   "cell_type": "code",
   "execution_count": 3,
   "id": "20af16b2-3827-4bf5-a13c-f6ec7a7169be",
   "metadata": {
    "tags": []
   },
   "outputs": [],
   "source": [
    "train_data = pd.read_csv('datasets/svmdata2.txt', sep='\\s+')\n",
    "test_data = pd.read_csv('datasets/svmdata2test.txt', sep='\\s+')\n",
    "le = LabelEncoder()\n",
    "le.fit([\"red\", \"green\"])\n",
    "y_train = le.transform(train_data['Colors'])\n",
    "y_test = le.transform(test_data['Colors'])\n",
    "X_train = train_data.loc[:, ['X1', 'X2']]\n",
    "X_train = normalize_data(X_train)\n",
    "X_test = test_data.loc[:, ['X1', 'X2']]\n",
    "X_test = normalize_data(X_test)"
   ]
  },
  {
   "cell_type": "markdown",
   "id": "100a3cbb-5e3c-4e91-933c-6d1d19b30cb2",
   "metadata": {},
   "source": [
    "## Настройка сетки поиска параметров"
   ]
  },
  {
   "cell_type": "code",
   "execution_count": 4,
   "id": "ebf0aeb5-f06b-42b5-a3cc-c1405e8b653e",
   "metadata": {},
   "outputs": [],
   "source": [
    "clf = KNeighborsClassifier()\n",
    "kf = StratifiedKFold(n_splits=5, shuffle=True, random_state=0)\n",
    "search_grid = {'n_neighbors': range(1, 40),\n",
    "              'p': range(1, 40),\n",
    "               'weights': ['uniform', 'distance']}\n",
    "gscv = GridSearchCV(clf, param_grid=search_grid, cv=kf, n_jobs=-1, verbose=1)"
   ]
  },
  {
   "cell_type": "code",
   "execution_count": 5,
   "id": "d21f806e-b083-421c-8640-115fb796ee39",
   "metadata": {},
   "outputs": [
    {
     "name": "stdout",
     "output_type": "stream",
     "text": [
      "Fitting 5 folds for each of 3042 candidates, totalling 15210 fits\n",
      "      mean_fit_time  std_fit_time  mean_score_time  std_score_time   \n",
      "0          0.005626      0.001732         0.007580        0.005997  \\\n",
      "1          0.004603      0.001499         0.004005        0.000554   \n",
      "2          0.004158      0.000374         0.005541        0.001241   \n",
      "3          0.003869      0.000519         0.004735        0.001260   \n",
      "4          0.005759      0.002796         0.004574        0.000735   \n",
      "...             ...           ...              ...             ...   \n",
      "3037       0.003028      0.000636         0.002998        0.000011   \n",
      "3038       0.003000      0.000010         0.004182        0.001505   \n",
      "3039       0.002795      0.000400         0.003040        0.000645   \n",
      "3040       0.003625      0.001736         0.003602        0.000498   \n",
      "3041       0.002495      0.000452         0.003582        0.000809   \n",
      "\n",
      "     param_n_neighbors param_p param_weights   \n",
      "0                    1       1       uniform  \\\n",
      "1                    1       1      distance   \n",
      "2                    1       2       uniform   \n",
      "3                    1       2      distance   \n",
      "4                    1       3       uniform   \n",
      "...                ...     ...           ...   \n",
      "3037                39      37      distance   \n",
      "3038                39      38       uniform   \n",
      "3039                39      38      distance   \n",
      "3040                39      39       uniform   \n",
      "3041                39      39      distance   \n",
      "\n",
      "                                                 params  split0_test_score   \n",
      "0      {'n_neighbors': 1, 'p': 1, 'weights': 'uniform'}                0.9  \\\n",
      "1     {'n_neighbors': 1, 'p': 1, 'weights': 'distance'}                0.9   \n",
      "2      {'n_neighbors': 1, 'p': 2, 'weights': 'uniform'}                0.9   \n",
      "3     {'n_neighbors': 1, 'p': 2, 'weights': 'distance'}                0.9   \n",
      "4      {'n_neighbors': 1, 'p': 3, 'weights': 'uniform'}                0.9   \n",
      "...                                                 ...                ...   \n",
      "3037  {'n_neighbors': 39, 'p': 37, 'weights': 'dista...                0.9   \n",
      "3038  {'n_neighbors': 39, 'p': 38, 'weights': 'unifo...                0.9   \n",
      "3039  {'n_neighbors': 39, 'p': 38, 'weights': 'dista...                0.9   \n",
      "3040  {'n_neighbors': 39, 'p': 39, 'weights': 'unifo...                0.9   \n",
      "3041  {'n_neighbors': 39, 'p': 39, 'weights': 'dista...                0.9   \n",
      "\n",
      "      split1_test_score  split2_test_score  split3_test_score   \n",
      "0                   1.0                1.0                1.0  \\\n",
      "1                   1.0                1.0                1.0   \n",
      "2                   1.0                1.0                1.0   \n",
      "3                   1.0                1.0                1.0   \n",
      "4                   1.0                1.0                1.0   \n",
      "...                 ...                ...                ...   \n",
      "3037                0.9                1.0                1.0   \n",
      "3038                0.9                1.0                1.0   \n",
      "3039                0.9                1.0                1.0   \n",
      "3040                0.9                1.0                1.0   \n",
      "3041                0.9                1.0                1.0   \n",
      "\n",
      "      split4_test_score  mean_test_score  std_test_score  rank_test_score  \n",
      "0                   1.0             0.98         0.04000                1  \n",
      "1                   1.0             0.98         0.04000                1  \n",
      "2                   1.0             0.98         0.04000                1  \n",
      "3                   1.0             0.98         0.04000                1  \n",
      "4                   1.0             0.98         0.04000                1  \n",
      "...                 ...              ...             ...              ...  \n",
      "3037                1.0             0.96         0.04899             1161  \n",
      "3038                1.0             0.96         0.04899             1161  \n",
      "3039                1.0             0.96         0.04899             1161  \n",
      "3040                1.0             0.96         0.04899             1161  \n",
      "3041                1.0             0.96         0.04899             1161  \n",
      "\n",
      "[3042 rows x 16 columns]\n",
      "{'n_neighbors': 1, 'p': 1, 'weights': 'uniform'}\n",
      "0.96\n"
     ]
    }
   ],
   "source": [
    "gscv.fit(X_train, y_train)\n",
    "print(pd.DataFrame(gscv.cv_results_))\n",
    "print(gscv.best_params_)\n",
    "print(gscv.score(X_test, y_test))"
   ]
  },
  {
   "cell_type": "markdown",
   "id": "0a743362-ce09-474f-83cf-2f0b293f48f9",
   "metadata": {},
   "source": [
    "## Графическое отображение результата"
   ]
  },
  {
   "cell_type": "code",
   "execution_count": 6,
   "id": "79b0f241-fd4d-48a0-844b-4a38a2bc7424",
   "metadata": {
    "tags": []
   },
   "outputs": [
    {
     "data": {
      "image/png": "[encoded data removed]",
      "text/plain": [
       "<Figure size 640x480 with 1 Axes>"
      ]
     },
     "metadata": {},
     "output_type": "display_data"
    }
   ],
   "source": [
    "plt.scatter(X_test['X1'], X_test['X2'], c=le.inverse_transform(y_test))\n",
    "plt.xlabel('X1')\n",
    "plt.ylabel('X2')\n",
    "plt.grid()\n",
    "plt.show()"
   ]
  }
 ],
 "metadata": {
  "kernelspec": {
   "display_name": "Python 3 (ipykernel)",
   "language": "python",
   "name": "python3"
  },
  "language_info": {
   "codemirror_mode": {
    "name": "ipython",
    "version": 3
   },
   "file_extension": ".py",
   "mimetype": "text/x-python",
   "name": "python",
   "nbconvert_exporter": "python",
   "pygments_lexer": "ipython3",
   "version": "3.11.2"
  }
 },
 "nbformat": 4,
 "nbformat_minor": 5
}
