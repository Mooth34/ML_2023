{
 "cells": [
  {
   "cell_type": "code",
   "execution_count": null,
   "id": "ea3a1741-3dac-4d71-8b8f-4c7c93d53c27",
   "metadata": {},
   "outputs": [],
   "source": [
    "import matplotlib.pyplot as plt\n",
    "import pandas as pd\n",
    "from sklearn.tree import DecisionTreeClassifier\n",
    "from stop_dependence import *"
   ]
  },
  {
   "cell_type": "code",
   "execution_count": null,
   "id": "26e10c6e-c0ec-4ada-8390-975dd2fcb0d2",
   "metadata": {},
   "outputs": [],
   "source": [
    "# Чтение данных из файла\n",
    "train_data = pd.read_csv('svmdata4.txt', sep='\\s+')\n",
    "test_data = pd.read_csv('svmdata4test.txt', sep='\\s+')\n",
    "y_train = train_data['Colors']\n",
    "y_test = test_data['Colors']\n",
    "X_train = train_data.loc[:, ['X1', 'X2']]\n",
    "X_test = test_data.loc[:, ['X1', 'X2']]\n",
    "X = pd.concat([X_train, X_test])\n",
    "y = pd.concat([y_train, y_test])"
   ]
  },
  {
   "cell_type": "code",
   "execution_count": null,
   "id": "4ea03099-7edc-4813-9750-b2c694663dbf",
   "metadata": {},
   "outputs": [],
   "source": [
    "clf = DecisionTreeClassifier()\n",
    "clf.fit(X_train, y_train)\n",
    "print('train score: {}'.format(clf.score(X_train, y_train)))\n",
    "print('test score: {}'.format(clf.score(X_test, y_test)))"
   ]
  },
  {
   "cell_type": "code",
   "execution_count": null,
   "id": "c0405965-f85a-4afe-815b-8faee39b99c3",
   "metadata": {},
   "outputs": [],
   "source": [
    "# Останов по высоте 3-4\n",
    "plt.xlabel('Depth')\n",
    "plt.ylabel('Accuracy')\n",
    "depth_train_dep, depth_test_dep = depth_accuracy_dependence(X, y)\n",
    "plt.plot(depth_train_dep, label='train',\n",
    "marker='.', markersize=10)\n",
    "plt.plot(depth_test_dep, label='test',\n",
    "marker='.', markersize=10)\n",
    "plt.grid()\n",
    "plt.legend()\n",
    "plt.show()"
   ]
  },
  {
   "cell_type": "code",
   "execution_count": null,
   "id": "62aa3662-8b34-4f25-a307-2445e6b1485b",
   "metadata": {},
   "outputs": [],
   "source": [
    "# Останов по числу объектов 0.2\n",
    "plt.xlabel('Samples split')\n",
    "plt.ylabel('Accuracy')\n",
    "samples_split_train_dep, samples_split_test_dep = samples_split_accuracy_dependence(X, y)\n",
    "plt.plot(samples_split_train_dep, label='train',\n",
    "marker='.', markersize=10)\n",
    "plt.plot(samples_split_test_dep, label='test',\n",
    "marker='.', markersize=10)\n",
    "plt.grid()\n",
    "plt.legend()\n",
    "plt.show()"
   ]
  },
  {
   "cell_type": "code",
   "execution_count": null,
   "id": "bbc7668f-a745-4661-95d5-10591ac8960a",
   "metadata": {},
   "outputs": [],
   "source": [
    "# Останов по проценту примеси(по ошибке классификации) 0.05-0.1\n",
    "plt.xlabel('Impurity decrease')\n",
    "plt.ylabel('Accuracy')\n",
    "impurity_decrease_train_dep, impurity_decrease_test_dep = impurity_decrease_accuracy_dependence(X, y)\n",
    "plt.plot(impurity_decrease_train_dep, label='train',\n",
    "marker='.', markersize=10)\n",
    "plt.plot(impurity_decrease_test_dep, label='test',\n",
    "marker='.', markersize=10)\n",
    "plt.grid()\n",
    "plt.legend()\n",
    "plt.show()"
   ]
  },
  {
   "cell_type": "code",
   "execution_count": null,
   "id": "6e2cbcc7-b283-4fc9-b195-a839d88ead1c",
   "metadata": {},
   "outputs": [],
   "source": [
    "#\n",
    "clf_impurity = DecisionTreeClassifier(min_samples_split=0.1,\n",
    "min_impurity_decrease=0.07)\n",
    "clf_impurity.fit(X_train, y_train)\n",
    "print('train score: {}'.format(clf_impurity.score(X_train, y_train)))\n",
    "print('test score: {}'.format(clf_impurity.score(X_test, y_test)))"
   ]
  }
 ],
 "metadata": {
  "kernelspec": {
   "display_name": "Python 3 (ipykernel)",
   "language": "python",
   "name": "python3"
  },
  "language_info": {
   "codemirror_mode": {
    "name": "ipython",
    "version": 3
   },
   "file_extension": ".py",
   "mimetype": "text/x-python",
   "name": "python",
   "nbconvert_exporter": "python",
   "pygments_lexer": "ipython3",
   "version": "3.11.2"
  }
 },
 "nbformat": 4,
 "nbformat_minor": 5
}
