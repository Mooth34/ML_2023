{
 "cells": [
  {
   "cell_type": "markdown",
   "id": "5d38d581-f429-4d96-b35d-2a985a8fbcd7",
   "metadata": {},
   "source": [
    "# Задание 3. Титаник"
   ]
  },
  {
   "cell_type": "code",
   "execution_count": 1,
   "id": "8442c0e9-2a19-4430-867a-7fe55fcac4f3",
   "metadata": {
    "tags": []
   },
   "outputs": [],
   "source": [
    "import random\n",
    "import matplotlib.pyplot as plt\n",
    "import numpy as np\n",
    "import pandas as pd\n",
    "from sklearn.model_selection import train_test_split, GridSearchCV, StratifiedKFold, cross_val_score\n",
    "from sklearn.naive_bayes import GaussianNB\n",
    "from accuracy_dependence import normalize_data"
   ]
  },
  {
   "cell_type": "markdown",
   "id": "57432a07-5c0d-40f7-912c-5a9f1dcf657f",
   "metadata": {},
   "source": [
    "## Чтение данных из файла"
   ]
  },
  {
   "cell_type": "code",
   "execution_count": 2,
   "id": "b07b65de-44e0-4465-a8df-fd1aea37f8ee",
   "metadata": {
    "tags": []
   },
   "outputs": [],
   "source": [
    "train_data = pd.read_csv('datasets/Titanic_train.csv', sep=',', header=0, index_col=0)\n",
    "X_test_data = pd.read_csv('datasets/Titanic_X_test.csv', sep=',', header=0, index_col=0)\n",
    "y_test_data = pd.read_csv('datasets/Titanic_y_test.csv', sep=',', header=0, index_col=0)"
   ]
  },
  {
   "cell_type": "code",
   "execution_count": 3,
   "id": "db03c531-9f21-4c19-9dad-ea8b1c068058",
   "metadata": {
    "tags": []
   },
   "outputs": [],
   "source": [
    "# Подготовка данных\n",
    "train_data.replace({'Sex': {'male': 0, 'female': 1}}, inplace=True)\n",
    "train_data.replace({'Embarked': {'C': 0, 'Q': 1, 'S': 2}}, inplace=True)\n",
    "train_data.fillna(0, inplace=True)\n",
    "# Подготовка неразмеченных данных\n",
    "X_test_data.replace({'Sex': {'male': 0, 'female': 1}}, inplace=True)\n",
    "X_test_data.replace({'Embarked': {'C': 0, 'Q': 1, 'S': 2}}, inplace=True)\n",
    "X_test_data.fillna(0, inplace=True)\n",
    "\n",
    "y_train_data = train_data['Survived']\n",
    "X_train_data = train_data.loc[:, ['Pclass', 'Sex', 'Age', 'SibSp', 'Parch', 'Fare', 'Embarked']]\n",
    "X_test_data = X_test_data.loc[:, ['Pclass', 'Sex', 'Age', 'SibSp', 'Parch', 'Fare', 'Embarked']]\n",
    "X_train_data = normalize_data(X_train_data)\n",
    "X_test_data = normalize_data(X_test_data)\n",
    "# X_train, X_test, y_train, y_test = train_test_split(X_train_data, y_train_data, random_state=random.randint(0, 1000))"
   ]
  },
  {
   "cell_type": "markdown",
   "id": "c37d5cd1-9dd9-4b3e-aa48-dfe6188777ca",
   "metadata": {},
   "source": [
    "## Настройка сетки поиска параметров"
   ]
  },
  {
   "cell_type": "code",
   "execution_count": 11,
   "id": "bb8efbf9-0d37-42ca-adcf-4c8743d1e3be",
   "metadata": {
    "tags": []
   },
   "outputs": [],
   "source": [
    "gnb = GaussianNB()\n",
    "kf = StratifiedKFold(n_splits=5, shuffle=True, random_state=0)\n",
    "search_grid = {'var_smoothing': np.logspace(0, -10, num=1000)}\n",
    "gscv = GridSearchCV(gnb, param_grid=search_grid, cv=kf, n_jobs=-1, verbose=1)"
   ]
  },
  {
   "cell_type": "code",
   "execution_count": 12,
   "id": "3eb69c94-53f8-4b59-994b-595483a320d6",
   "metadata": {
    "tags": []
   },
   "outputs": [
    {
     "name": "stdout",
     "output_type": "stream",
     "text": [
      "Fitting 5 folds for each of 1000 candidates, totalling 5000 fits\n",
      "{'var_smoothing': 0.9549485639791966}\n"
     ]
    }
   ],
   "source": [
    "gscv.fit(X_train_data, y_train_data)\n",
    "# print(pd.DataFrame(gscv.cv_results_))\n",
    "print(gscv.best_params_)"
   ]
  },
  {
   "cell_type": "code",
   "execution_count": 13,
   "id": "d9e6cc0d-52a1-4235-aa6f-4bff8527b7c7",
   "metadata": {
    "tags": []
   },
   "outputs": [
    {
     "name": "stdout",
     "output_type": "stream",
     "text": [
      "0.9019138755980861\n"
     ]
    }
   ],
   "source": [
    "print(gscv.score(X_test_data, y_test_data))"
   ]
  },
  {
   "cell_type": "code",
   "execution_count": 14,
   "id": "df71d169-6ea9-4d36-a415-d57e3fdb65c7",
   "metadata": {
    "tags": []
   },
   "outputs": [
    {
     "name": "stdout",
     "output_type": "stream",
     "text": [
      "Утонувшие 307\n",
      "Выжившие 111\n"
     ]
    }
   ],
   "source": [
    "labels = np.array(gscv.predict(X=X_test_data))\n",
    "label0 = np.count_nonzero(labels == 0)\n",
    "print(\"Утонувшие {}\".format(str(label0)))\n",
    "print(\"Выжившие {}\".format(str(X_test_data.index.size - label0)))"
   ]
  }
 ],
 "metadata": {
  "kernelspec": {
   "display_name": "Python 3 (ipykernel)",
   "language": "python",
   "name": "python3"
  },
  "language_info": {
   "codemirror_mode": {
    "name": "ipython",
    "version": 3
   },
   "file_extension": ".py",
   "mimetype": "text/x-python",
   "name": "python",
   "nbconvert_exporter": "python",
   "pygments_lexer": "ipython3",
   "version": "3.11.2"
  }
 },
 "nbformat": 4,
 "nbformat_minor": 5
}
